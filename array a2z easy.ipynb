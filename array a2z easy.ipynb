{
 "cells": [
  {
   "cell_type": "markdown",
   "id": "7be12e07-76d7-46ab-80b7-5f1f86edc12b",
   "metadata": {},
   "source": [
    "# easy\n",
    "* 1Largest Element in an Array\n",
    "Easy\n",
    "* 2Second Largest Element in an Array without sorting\n",
    "Easy\n",
    "* 3Check if the array is sorted\n",
    "Easy\n",
    "* 4Remove duplicates from Sorted array\n",
    "Easy\n",
    "* 5Left Rotate an array by one place\n",
    "Easy\n",
    "* 6Left rotate an array by D places\n",
    "Easy\n",
    "* 7Move Zeros to end\n",
    "Easy\n",
    "* 8Linear Search\n",
    "Easy\n",
    "* 9Find the Union\n",
    "Medium\n",
    "* 10Find missing number in an array\n",
    "Easy\n",
    "* 11Maximum Consecutive Ones\n",
    "Easy\n",
    "* 12Find the number that appears once, and other numbers twice.\n",
    "Medium\n",
    "* 13Longest subarray with given sum K(positives)\n",
    "Medium\n",
    "* 14Longest subarray with sum K (Positives + Negatives)"
   ]
  },
  {
   "cell_type": "code",
   "execution_count": null,
   "id": "6790063e-d2af-41a2-be94-d7805fad2568",
   "metadata": {},
   "outputs": [],
   "source": []
  },
  {
   "cell_type": "code",
   "execution_count": null,
   "id": "20632f11-1170-49d1-94dd-ef2b71a8d645",
   "metadata": {},
   "outputs": [],
   "source": []
  },
  {
   "cell_type": "markdown",
   "id": "e56579ad-feb5-48d9-8163-5dce448e5b8a",
   "metadata": {},
   "source": [
    "# 1 find largest Element"
   ]
  },
  {
   "cell_type": "code",
   "execution_count": 4,
   "id": "4967a4a6-1135-4d8f-9fee-7edc7d1a17e3",
   "metadata": {},
   "outputs": [
    {
     "name": "stdout",
     "output_type": "stream",
     "text": [
      "8\n"
     ]
    }
   ],
   "source": [
    "def largest(arr):\n",
    "    big = arr[0]\n",
    "    for i in range(len(arr)):\n",
    "        if arr[i] > big:\n",
    "            big = arr[i]\n",
    "    return big    \n",
    "        \n",
    "arr = [8,4,1]\n",
    "print(largest(arr))\n",
    "        \n",
    "# tc => O(n)\n",
    "\n"
   ]
  },
  {
   "cell_type": "markdown",
   "id": "8e2675ec-28ae-4551-8b82-c8ae7f8e5ab6",
   "metadata": {},
   "source": [
    "# 2 find second largest element without sorting"
   ]
  },
  {
   "cell_type": "code",
   "execution_count": 14,
   "id": "7996ba87-a03b-4d32-a179-c0e70b76eca7",
   "metadata": {},
   "outputs": [
    {
     "name": "stdout",
     "output_type": "stream",
     "text": [
      "5\n"
     ]
    }
   ],
   "source": [
    "\n",
    "def secondLargest(arr):\n",
    "    lar = arr[0]\n",
    "    seclar = arr[1] # the arr must have at least two elememt\n",
    "    for i in range(len(arr)):\n",
    "        if arr[i]> lar:\n",
    "            seclar = lar\n",
    "            lar = arr[i]\n",
    "        else :\n",
    "            if arr[i] < lar and arr[i] > seclar :\n",
    "                seclar = arr[i]\n",
    "    return seclar\n",
    "\n",
    "\n",
    "\n",
    "\n",
    "arr1 = [10,5,10]\n",
    "print(secondLargest(arr1))\n",
    "\n",
    "\n",
    "# tc => O(n)"
   ]
  },
  {
   "cell_type": "markdown",
   "id": "215ca31b-aa50-4558-a264-2c59816bc2ca",
   "metadata": {},
   "source": [
    "# 3 check array is sorted"
   ]
  },
  {
   "cell_type": "code",
   "execution_count": 20,
   "id": "c30e1695-63c8-4132-a2e3-95950d909170",
   "metadata": {},
   "outputs": [
    {
     "name": "stdout",
     "output_type": "stream",
     "text": [
      "True\n"
     ]
    }
   ],
   "source": [
    "def checkArraySorted(arr):\n",
    "    for i in range(len(arr)-1):\n",
    "        if arr[i] > arr[i+1]:\n",
    "            return False\n",
    "    return True\n",
    "arr = [1,2,3,4,5,6,7,8,8,8,8,9]\n",
    "print(checkArraySorted(arr))"
   ]
  },
  {
   "cell_type": "markdown",
   "id": "c4051447-8419-4bfd-bfe5-93c47671570c",
   "metadata": {},
   "source": [
    "# 4 remove duplicates from Sorted Array"
   ]
  },
  {
   "cell_type": "code",
   "execution_count": 30,
   "id": "cc514ce1-ae80-49e9-ba95-29829a53fab9",
   "metadata": {},
   "outputs": [
    {
     "name": "stdout",
     "output_type": "stream",
     "text": [
      "[0, 1, 2, 3, 4]\n",
      "5\n"
     ]
    }
   ],
   "source": [
    "def remDup(arr):\n",
    "    arr2 = []\n",
    "    arr2.append(arr[0])\n",
    "    for i in range(len(arr)):\n",
    "        p = arr2[-1]\n",
    "        if p != arr[i]:\n",
    "            arr2.append(arr[i])\n",
    "    return arr2\n",
    "\n",
    "\n",
    "arr = [0,0,1,1,1,2,2,3,3,4]\n",
    "res = remDup(arr)\n",
    "print(res)a\n",
    "print(len(res))"
   ]
  },
  {
   "cell_type": "markdown",
   "id": "624ccb26-4ab8-4067-a5d2-9af7adca45f8",
   "metadata": {},
   "source": [
    "## 4.2 double pointer approach ***"
   ]
  },
  {
   "cell_type": "code",
   "execution_count": 34,
   "id": "57f8daed-a882-4b37-82ca-e38d744a3d69",
   "metadata": {},
   "outputs": [
    {
     "name": "stdout",
     "output_type": "stream",
     "text": [
      "2\n"
     ]
    }
   ],
   "source": [
    "def remDup(nums):\n",
    "    j = 1\n",
    "    for i in range(1, len(nums)):\n",
    "        if nums[i] != nums[i - 1]:\n",
    "            nums[j] = nums[i]\n",
    "            j += 1\n",
    "    return j\n",
    "\n",
    "arr = [1,1,2]\n",
    "res = remDup(arr)\n",
    "print(res)\n"
   ]
  },
  {
   "cell_type": "markdown",
   "id": "02de0188-4794-4484-b207-b4c834a718eb",
   "metadata": {},
   "source": [
    "# 5  Left Rotate an array by one place"
   ]
  },
  {
   "cell_type": "code",
   "execution_count": 6,
   "id": "766ea3c4-462a-4e4b-8274-ad73f1ea6c2f",
   "metadata": {},
   "outputs": [
    {
     "name": "stdout",
     "output_type": "stream",
     "text": [
      "1\n",
      "[2, 3, 4, 5, 6, 7, 8, 9, 1]\n"
     ]
    }
   ],
   "source": [
    "def leftRotateone(nums):\n",
    "    fvalue = nums[0]\n",
    "    print(fvalue)\n",
    "    for i in range(len(nums)-1):\n",
    "        nums[i] = nums[i+1] \n",
    "        if i+1 == len(nums)-1:\n",
    "            nums[i+1] = fvalue\n",
    "    return nums\n",
    "        \n",
    "arr = [1,2,3,4,5,6,7,8,9]\n",
    "res = leftRotateone(arr)\n",
    "print(res)    \n",
    "        \n"
   ]
  },
  {
   "cell_type": "markdown",
   "id": "316df24a-a216-41c3-8924-00cf850f5fc5",
   "metadata": {},
   "source": [
    "# 6 Left rotate an array by D places"
   ]
  },
  {
   "cell_type": "code",
   "execution_count": 6,
   "id": "a066d075-37b6-4ec4-b82c-e337e6c741c5",
   "metadata": {},
   "outputs": [
    {
     "name": "stdout",
     "output_type": "stream",
     "text": [
      "1\n",
      "[2, 3, 4, 5, 6, 7, 8, 9, 1]\n"
     ]
    }
   ],
   "source": [
    "def leftRotateone(nums , d):\n",
    "    d = d%len(nums) #*****\n",
    "    for i in range(d):\n",
    "        fvalue = nums[0]\n",
    "        print(fvalue)\n",
    "        for i in range(len(nums)-1):\n",
    "            nums[i] = nums[i+1] \n",
    "            if i+1 == len(nums)-1:\n",
    "                nums[i+1] = fvalue\n",
    "    return nums\n",
    "        \n",
    "arr = [1,2,3,4,5,6,7,8,9]\n",
    "res = leftRotateone(arr , 100)\n",
    "print(res)    \n",
    "        \n"
   ]
  },
  {
   "cell_type": "markdown",
   "id": "3cd21ea3-5fc0-4a5e-bd1d-6edb0711d0ff",
   "metadata": {},
   "source": [
    "# 7 Move all Zeros to the end of the array ***"
   ]
  },
  {
   "cell_type": "code",
   "execution_count": 12,
   "id": "1524402a-5f79-4271-a121-b9feac7c070e",
   "metadata": {},
   "outputs": [
    {
     "name": "stdout",
     "output_type": "stream",
     "text": [
      "1\n",
      "2\n",
      "[1, 2, 3, 1, 2, 0, 0, 0, 0, 0]\n"
     ]
    }
   ],
   "source": [
    "def moveZeros(nums):\n",
    "    lt = len(nums)\n",
    "    for i in range(lt):\n",
    "        if nums[i] == 0:\n",
    "            break;\n",
    "    for j in range(i+1,lt):\n",
    "        if nums[j]!= 0:\n",
    "            temp = nums[i]\n",
    "            nums[i] = nums[j]\n",
    "            nums[j] = temp\n",
    "            i +=1\n",
    "    return nums\n",
    "            \n",
    "\n",
    "arr = [1,2,3,0,0,1,0,0,0,2]\n",
    "print(moveZeros(arr))"
   ]
  },
  {
   "cell_type": "markdown",
   "id": "fd3fcf52-93ae-420e-b293-b400cea611df",
   "metadata": {},
   "source": [
    "# 8 Linear Search "
   ]
  },
  {
   "cell_type": "code",
   "execution_count": 3,
   "id": "bc5c5cac-6a8c-4d28-8b4e-b197fef17e53",
   "metadata": {},
   "outputs": [
    {
     "name": "stdout",
     "output_type": "stream",
     "text": [
      "1\n"
     ]
    }
   ],
   "source": [
    "def linSea(arr, e):\n",
    "    i = 0\n",
    "    while i < len(arr):\n",
    "        if e == arr[i]:\n",
    "            return i\n",
    "        i += 1\n",
    "\n",
    "\n",
    "arr = [1 ,0 ,2 ,3 ,0 ,4 ,0 ,1]\n",
    "res = linSea(arr, 0)\n",
    "print(res)    \n"
   ]
  },
  {
   "cell_type": "code",
   "execution_count": 12,
   "id": "5695a042-68ad-49af-872c-48b8e11998b0",
   "metadata": {},
   "outputs": [
    {
     "name": "stdout",
     "output_type": "stream",
     "text": [
      "[10, 20, 3, 4, 5, 2, 3, 4, 5, 6, 7, 8, 9]\n",
      "{2, 3, 4, 5, 6, 7, 8, 9, 10, 20}\n"
     ]
    }
   ],
   "source": [
    "arr1 = [10,20,3,4,5]\n",
    "arr2 = [2,3,4,5,6,7,8,9]\n",
    "arr1 = arr1 + arr2\n",
    "print(arr1)\n",
    "arr1 = set(arr1)\n",
    "print(arr1)"
   ]
  },
  {
   "cell_type": "markdown",
   "id": "d137d183-523e-4134-b2ec-0185640e5e0b",
   "metadata": {},
   "source": [
    "# 9 Find the Union"
   ]
  },
  {
   "cell_type": "code",
   "execution_count": 10,
   "id": "27ceb8d9-6086-45d6-83dd-f79e67a1ee47",
   "metadata": {},
   "outputs": [
    {
     "name": "stdout",
     "output_type": "stream",
     "text": [
      "{1, 2, 3, 4, 5, 6, 10}\n"
     ]
    }
   ],
   "source": [
    "def union(arr1,arr2):\n",
    "    arr1 = arr1+ arr2 \n",
    "    arr1 = set(arr1)\n",
    "    return arr1\n",
    "arr1 = [1,1,2,3,4,5]\n",
    "arr2 = [2,3,3,3,5,6,10]\n",
    "res = union(arr1 , arr2)\n",
    "print(res)\n"
   ]
  },
  {
   "cell_type": "markdown",
   "id": "6764a4ce-52cc-4a7d-91ba-68f477971464",
   "metadata": {},
   "source": [
    "### 9.1 optimize "
   ]
  },
  {
   "cell_type": "code",
   "execution_count": 13,
   "id": "cea24dad-f773-4351-812b-e01d58c10f2f",
   "metadata": {},
   "outputs": [
    {
     "name": "stdout",
     "output_type": "stream",
     "text": [
      "Union of arr1 and arr2 is:\n",
      "1 2 3 4 5 6 7 8 9 10 11 12\n"
     ]
    }
   ],
   "source": [
    "\n",
    "\n",
    "\n",
    "def find_union(arr1, arr2):\n",
    "    i, j = 0, 0  # Pointers\n",
    "    union = []  # Union list\n",
    "\n",
    "    while i < len(arr1) and j < len(arr2):\n",
    "        if arr1[i] <= arr2[j]:  # Case 1 and 2\n",
    "            if len(union) == 0 or union[-1] != arr1[i]:\n",
    "                union.append(arr1[i])\n",
    "            i += 1\n",
    "        else:  # Case 3\n",
    "            if len(union) == 0 or union[-1] != arr2[j]:\n",
    "                union.append(arr2[j])\n",
    "            j += 1\n",
    "\n",
    "    while i < len(arr1):  # If any elements left in arr1\n",
    "        if union[-1] != arr1[i]:\n",
    "            union.append(arr1[i])\n",
    "        i += 1\n",
    "\n",
    "    while j < len(arr2):  # If any elements left in arr2\n",
    "        if union[-1] != arr2[j]:\n",
    "            union.append(arr2[j])\n",
    "        j += 1\n",
    "\n",
    "    return union\n",
    "\n",
    "\n",
    "arr1 = [1, 2, 3, 4, 5, 6, 7, 8, 9, 10]\n",
    "arr2 = [2, 3, 4, 4, 5, 11, 12]\n",
    "\n",
    "union = find_union(arr1, arr2)\n",
    "\n",
    "print(\"Union of arr1 and arr2 is:\")\n",
    "print(*union)\n",
    "\n"
   ]
  },
  {
   "cell_type": "markdown",
   "id": "d3a2ef57-cc52-4cb4-8096-7c6d27f6e1b8",
   "metadata": {},
   "source": [
    " # 10 misssing number"
   ]
  },
  {
   "cell_type": "code",
   "execution_count": 39,
   "id": "b0c18059-2579-404d-a046-949b7c5b0465",
   "metadata": {},
   "outputs": [
    {
     "name": "stdout",
     "output_type": "stream",
     "text": [
      "6\n",
      "2\n"
     ]
    }
   ],
   "source": [
    "def misNum(nums):\n",
    "    n = len(nums)\n",
    "    total1 = n*(n+1)//2\n",
    "    print(total1)\n",
    "    total2 = 0\n",
    "    for i in range(len(nums)):\n",
    "        total2 += nums[i]\n",
    "    return total1 - total2\n",
    "\n",
    "arr = [3,0,1]\n",
    "print(misNum(arr))\n"
   ]
  },
  {
   "cell_type": "markdown",
   "id": "d254b29d-1df7-4e3e-9d1c-46a1f3595f5b",
   "metadata": {},
   "source": [
    "# 11 max consecutive 1"
   ]
  },
  {
   "cell_type": "code",
   "execution_count": 33,
   "id": "87e4fd75-2d4c-49b1-99dc-93bb50ed8840",
   "metadata": {},
   "outputs": [
    {
     "name": "stdout",
     "output_type": "stream",
     "text": [
      "3\n"
     ]
    }
   ],
   "source": [
    "def maxConOne(nums):\n",
    "    count = 0\n",
    "    temp = 0\n",
    "    for i in range(len(nums)):\n",
    "\n",
    "        if nums[i] == 1:\n",
    "            temp +=1\n",
    "            if count < temp:\n",
    "                count = temp\n",
    "        else : \n",
    "            temp = 0\n",
    "            if count < temp:\n",
    "                count = temp             \n",
    "        \n",
    "    return count\n",
    "\n",
    "nums = [1,1,0,1,1,1]\n",
    "print(maxConOne(nums))\n",
    "            "
   ]
  },
  {
   "cell_type": "markdown",
   "id": "852e3d12-92df-47c2-bef2-10be95038134",
   "metadata": {},
   "source": [
    "# 11 Find the number that appears once, and the other numbers twice"
   ]
  },
  {
   "cell_type": "code",
   "execution_count": 46,
   "id": "3d9d92f0-692b-4416-a61e-a1d1f2cec588",
   "metadata": {},
   "outputs": [
    {
     "name": "stdout",
     "output_type": "stream",
     "text": [
      "The single element is: 4\n"
     ]
    }
   ],
   "source": [
    "\n",
    "def getSingleElement(arr):\n",
    "    # XOR all the elements:\n",
    "    xorr = 0\n",
    "    for num in arr:\n",
    "        xorr ^= num\n",
    "    return xorr\n",
    "\n",
    "\n",
    "arr = [4, 1, 2, 1, 2]\n",
    "ans = getSingleElement(arr)\n",
    "print(\"The single element is:\", ans)\n",
    "\n",
    "\n",
    "\n",
    "\n"
   ]
  },
  {
   "cell_type": "code",
   "execution_count": null,
   "id": "51e8b588-d01d-4d2a-b7b1-7128209eb36e",
   "metadata": {},
   "outputs": [],
   "source": []
  }
 ],
 "metadata": {
  "kernelspec": {
   "display_name": "Python 3 (ipykernel)",
   "language": "python",
   "name": "python3"
  },
  "language_info": {
   "codemirror_mode": {
    "name": "ipython",
    "version": 3
   },
   "file_extension": ".py",
   "mimetype": "text/x-python",
   "name": "python",
   "nbconvert_exporter": "python",
   "pygments_lexer": "ipython3",
   "version": "3.12.5"
  }
 },
 "nbformat": 4,
 "nbformat_minor": 5
}
