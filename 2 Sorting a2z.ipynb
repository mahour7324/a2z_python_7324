{
 "cells": [
  {
   "cell_type": "markdown",
   "id": "dc09e7cb-0946-4239-95b2-3aa493e4ff41",
   "metadata": {},
   "source": [
    "# 1 selection sort (select the minimun)"
   ]
  },
  {
   "cell_type": "code",
   "execution_count": 52,
   "id": "c6df26be-8f83-4459-bd81-e5a12c195704",
   "metadata": {},
   "outputs": [
    {
     "name": "stdout",
     "output_type": "stream",
     "text": [
      "[404, 506, 806, 909, 1001]\n"
     ]
    }
   ],
   "source": [
    "def selection(nums):\n",
    "    n = len(nums)\n",
    "    for st in range(n):\n",
    "        # Assume the current position is the minimum\n",
    "        min_index = st\n",
    "        for pointer in range(st + 1, n):\n",
    "            # Find the index of the smallest element\n",
    "            if nums[pointer] < nums[min_index]:\n",
    "                min_index = pointer\n",
    "        # Swap the found minimum element with the first element\n",
    "        nums[st], nums[min_index] = nums[min_index], nums[st]\n",
    "    return nums\n",
    "\n",
    "        \n",
    "    \n",
    "\n",
    "arr = [506,404,806,909,1001]\n",
    "print(selection(arr))\n",
    "        \n",
    "        \n",
    "    "
   ]
  },
  {
   "cell_type": "markdown",
   "id": "33af8f08-a360-4b65-80c2-1c0cf447afcc",
   "metadata": {},
   "source": [
    "# 2 Bubble sort"
   ]
  },
  {
   "cell_type": "code",
   "execution_count": 2,
   "id": "130b89dc-cff9-40c6-a79a-3728f7c072d8",
   "metadata": {},
   "outputs": [
    {
     "name": "stdout",
     "output_type": "stream",
     "text": [
      "[404, 506, 806, 909, 1001]\n"
     ]
    }
   ],
   "source": [
    "def bubble_sort(nums):\n",
    "    n = len(nums)\n",
    "    # Traverse through all elements in the list\n",
    "    for i in range(n):\n",
    "        # Initialize a flag to detect if a swap occurred\n",
    "        swapped = False\n",
    "        # Last i elements are already in place, so reduce the range\n",
    "        for j in range(0, n-i-1):\n",
    "            # Swap if the current element is greater than the next element\n",
    "            if nums[j] > nums[j+1]:\n",
    "                nums[j], nums[j+1] = nums[j+1], nums[j]\n",
    "                swapped = True\n",
    "        # If no two elements were swapped in the inner loop, then the list is already sorted\n",
    "        if not swapped:\n",
    "            break\n",
    "    return nums\n",
    "arr = [506,404,806,909,1001]\n",
    "print(bubble_sort(arr))"
   ]
  },
  {
   "cell_type": "markdown",
   "id": "4fcd169b-2a59-40c8-a138-6571ec9386a4",
   "metadata": {},
   "source": [
    "# 3 merge sort"
   ]
  },
  {
   "cell_type": "code",
   "execution_count": 3,
   "id": "f0bef527-71d5-42d8-9980-e93e2631c24a",
   "metadata": {},
   "outputs": [
    {
     "name": "stdout",
     "output_type": "stream",
     "text": [
      "[404, 506, 806, 909, 1001]\n"
     ]
    }
   ],
   "source": [
    "def merge_sort(nums):\n",
    "    # Base case: If the list has 1 or 0 elements, it is already sorted\n",
    "    if len(nums) <= 1:\n",
    "        return nums\n",
    "\n",
    "    # Step 1: Divide the list into two halves\n",
    "    mid = len(nums) // 2\n",
    "    left_half = nums[:mid]\n",
    "    right_half = nums[mid:]\n",
    "\n",
    "    # Step 2: Recursively sort both halves\n",
    "    left_sorted = merge_sort(left_half)\n",
    "    right_sorted = merge_sort(right_half)\n",
    "\n",
    "    # Step 3: Merge the two sorted halves\n",
    "    return merge(left_sorted, right_sorted)\n",
    "\n",
    "def merge(left, right):\n",
    "    sorted_list = []\n",
    "    i = 0\n",
    "    j = 0\n",
    "\n",
    "    # Step 4: Merge elements from both halves in sorted order\n",
    "    while i < len(left) and j < len(right):\n",
    "        if left[i] < right[j]:\n",
    "            sorted_list.append(left[i])\n",
    "            i += 1\n",
    "        else:\n",
    "            sorted_list.append(right[j])\n",
    "            j += 1\n",
    "\n",
    "    # If there are remaining elements in either half, add them to the sorted list\n",
    "    sorted_list.extend(left[i:])\n",
    "    sorted_list.extend(right[j:])\n",
    "\n",
    "    return sorted_list\n",
    "\n",
    "arr = [506,404,806,909,1001]\n",
    "print(merge_sort(arr))\n"
   ]
  },
  {
   "cell_type": "code",
   "execution_count": null,
   "id": "4b2a2e0d-7294-4377-b7c2-64bcbf8798bc",
   "metadata": {},
   "outputs": [],
   "source": []
  },
  {
   "cell_type": "code",
   "execution_count": null,
   "id": "fc70def1-c499-4016-a3a4-6cc5c8621c89",
   "metadata": {},
   "outputs": [],
   "source": []
  }
 ],
 "metadata": {
  "kernelspec": {
   "display_name": "Python 3 (ipykernel)",
   "language": "python",
   "name": "python3"
  },
  "language_info": {
   "codemirror_mode": {
    "name": "ipython",
    "version": 3
   },
   "file_extension": ".py",
   "mimetype": "text/x-python",
   "name": "python",
   "nbconvert_exporter": "python",
   "pygments_lexer": "ipython3",
   "version": "3.12.5"
  }
 },
 "nbformat": 4,
 "nbformat_minor": 5
}
