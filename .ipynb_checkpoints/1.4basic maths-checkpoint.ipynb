{
 "cells": [
  {
   "cell_type": "markdown",
   "id": "7a2207d3-d3de-49b4-b6b0-16c6a2c2b0db",
   "metadata": {},
   "source": [
    "# 1 Count digit"
   ]
  },
  {
   "cell_type": "code",
   "execution_count": 35,
   "id": "7421fec4-ef4e-46ff-93af-27d1dc1221fd",
   "metadata": {},
   "outputs": [
    {
     "name": "stdin",
     "output_type": "stream",
     "text": [
      " 4846843135\n"
     ]
    },
    {
     "name": "stdout",
     "output_type": "stream",
     "text": [
      "10\n"
     ]
    }
   ],
   "source": [
    "\n",
    "def countDig():\n",
    "    x = int(input())\n",
    "    count = 0 \n",
    "    while x>0:\n",
    "        r= x % 10\n",
    "        x = x//10\n",
    "        count +=1\n",
    "        \n",
    "    return count\n",
    "print(countDig())\n"
   ]
  },
  {
   "cell_type": "markdown",
   "id": "c52ac68f-8e16-483d-a66e-1d8ec292b421",
   "metadata": {},
   "source": [
    "# 2 reverse number reverse(n)"
   ]
  },
  {
   "cell_type": "code",
   "execution_count": 21,
   "id": "ff8f8c93-32d3-4dcc-8b7e-6c950ef9e3f4",
   "metadata": {},
   "outputs": [
    {
     "name": "stdin",
     "output_type": "stream",
     "text": [
      " 123000001\n"
     ]
    },
    {
     "name": "stdout",
     "output_type": "stream",
     "text": [
      "100000321\n"
     ]
    }
   ],
   "source": [
    "n = int(input())\n",
    "def revNum(x):\n",
    "    rev = 0\n",
    "    while x>0:\n",
    "        r= x % 10\n",
    "        x = x//10\n",
    "        rev = rev*10+r\n",
    "    return rev\n",
    "print(revNum(n))\n",
    "# tc => O(log10(n)) if nubmer of iter based on no of division and then tc will be in log format.\n"
   ]
  },
  {
   "cell_type": "markdown",
   "id": "ced59b23-6823-48f8-8376-144d0b114af3",
   "metadata": {},
   "source": [
    "# 3 check Palindrome  n ==  reverse(n)"
   ]
  },
  {
   "cell_type": "code",
   "execution_count": 31,
   "id": "190505ca-fdba-49f7-95fd-0ae74feba583",
   "metadata": {},
   "outputs": [
    {
     "name": "stdin",
     "output_type": "stream",
     "text": [
      " 2222\n"
     ]
    },
    {
     "name": "stdout",
     "output_type": "stream",
     "text": [
      "True\n"
     ]
    }
   ],
   "source": [
    "\n",
    "def revNum(x):\n",
    "    rev = 0\n",
    "    while x>0:\n",
    "        r= x % 10\n",
    "        x = x//10\n",
    "        rev = rev*10+r\n",
    "    return rev\n",
    "def checkPali():\n",
    "    n = int(input())\n",
    "    reverse = revNum(n)\n",
    "    return True if n == reverse else False\n",
    "print(checkPali())\n",
    "    "
   ]
  },
  {
   "cell_type": "markdown",
   "id": "4b96c5e8-667e-46d3-8e81-7e2ae298799a",
   "metadata": {},
   "source": [
    "# 5 check amstrong number ### 371 => 3^3 + 7^3 + 1^3 = 371"
   ]
  },
  {
   "cell_type": "code",
   "execution_count": 67,
   "id": "58a1ddd8-3c88-491b-aa7a-1f29bf0a2dbd",
   "metadata": {},
   "outputs": [
    {
     "name": "stdin",
     "output_type": "stream",
     "text": [
      " 912985153\n"
     ]
    },
    {
     "name": "stdout",
     "output_type": "stream",
     "text": [
      "True\n"
     ]
    }
   ],
   "source": [
    "def countDig(x):\n",
    "    count = 0 \n",
    "    while x>0:\n",
    "        r= x % 10\n",
    "        x = x//10\n",
    "        count +=1\n",
    "    return count\n",
    "\n",
    "\n",
    "def checkAms():\n",
    "    n = int(input())\n",
    "    x = n\n",
    "    res = 0\n",
    "    while x > 0 :\n",
    "        r = x%10\n",
    "        x = x//10\n",
    "        res = res + r**countDig(n)\n",
    "    \n",
    "    return True if res == n else False\n",
    "print(checkAms())"
   ]
  },
  {
   "cell_type": "markdown",
   "id": "f5b35986-6177-44fe-8cf5-41c4d536facd",
   "metadata": {},
   "source": [
    "# 6 print all divisors"
   ]
  },
  {
   "cell_type": "code",
   "execution_count": 70,
   "id": "676758bf-c752-40d5-8d45-f6cb68504e84",
   "metadata": {},
   "outputs": [
    {
     "name": "stdin",
     "output_type": "stream",
     "text": [
      " 56\n"
     ]
    },
    {
     "name": "stdout",
     "output_type": "stream",
     "text": [
      "[1, 2, 4, 7, 8, 14, 28, 56]\n"
     ]
    }
   ],
   "source": [
    "def divisors():\n",
    "    l = []\n",
    "    n =  int(input())\n",
    "    for i in range(1,n+1):\n",
    "        if n%i ==0:\n",
    "            l.append(i)\n",
    "    return l\n",
    "print(divisors())\n",
    "            \n",
    "        "
   ]
  },
  {
   "cell_type": "markdown",
   "id": "5cbbb680-8ce1-4b03-9047-942cc68cf243",
   "metadata": {},
   "source": [
    "### try with sqrt(n)"
   ]
  },
  {
   "cell_type": "markdown",
   "id": "af8f2a7d-140b-4ab2-94ef-01e28bb6b279",
   "metadata": {},
   "source": [
    "# 7 check for prime"
   ]
  },
  {
   "cell_type": "code",
   "execution_count": 107,
   "id": "34e6dfbf-f2b4-4eaa-bad6-b17da2d22558",
   "metadata": {},
   "outputs": [
    {
     "name": "stdin",
     "output_type": "stream",
     "text": [
      " 9\n"
     ]
    },
    {
     "name": "stdout",
     "output_type": "stream",
     "text": [
      "3\n"
     ]
    },
    {
     "data": {
      "text/plain": [
       "False"
      ]
     },
     "execution_count": 107,
     "metadata": {},
     "output_type": "execute_result"
    }
   ],
   "source": [
    "def checkPrime():\n",
    "    n = int(input())\n",
    "    i = 2\n",
    "    while i*i < n+1:\n",
    "        if n%i == 0:\n",
    "            print(i)\n",
    "            return False\n",
    "        i +=1\n",
    "    return True\n",
    "        \n",
    "checkPrime()"
   ]
  },
  {
   "cell_type": "markdown",
   "id": "6a88f036-0053-4ef5-b5ae-352e32b5d7ef",
   "metadata": {
    "scrolled": true
   },
   "source": [
    "# 4 gcd HCF"
   ]
  },
  {
   "cell_type": "code",
   "execution_count": 122,
   "id": "81afc696-c87d-407b-a729-e066aad5e342",
   "metadata": {},
   "outputs": [
    {
     "name": "stdin",
     "output_type": "stream",
     "text": [
      " 69 13\n"
     ]
    },
    {
     "data": {
      "text/plain": [
       "1"
      ]
     },
     "execution_count": 122,
     "metadata": {},
     "output_type": "execute_result"
    }
   ],
   "source": [
    "def max(a,b):\n",
    "    if a >b :\n",
    "        return a\n",
    "    else :\n",
    "        return b\n",
    "def min(a,b):\n",
    "    if a<b:\n",
    "        return a\n",
    "    else :\n",
    "        return b\n",
    "    \n",
    "def hcf():\n",
    "    a,b = input().split()\n",
    "    a = int(a); b = int(b)\n",
    "    x = max(a,b)\n",
    "    y = min(a,b)\n",
    "    r = 1\n",
    "    while r > 0:\n",
    "        if x % y ==0:\n",
    "            return y\n",
    "        else :\n",
    "            r = x%y\n",
    "            x = y\n",
    "            y  = r\n",
    "    \n",
    "    \n",
    "hcf()\n",
    "\n",
    "# tc => logfi(min(a,b)) fi means |O symbol denoted unfixed number "
   ]
  },
  {
   "cell_type": "markdown",
   "id": "6abdf286-1db2-4012-be71-ce89ea008a0a",
   "metadata": {},
   "source": [
    "# 4.2 LCM"
   ]
  },
  {
   "cell_type": "code",
   "execution_count": 143,
   "id": "dbacf6dd-2ad3-45ae-9c4d-13dbe670c213",
   "metadata": {},
   "outputs": [
    {
     "name": "stdin",
     "output_type": "stream",
     "text": [
      " 13 70\n"
     ]
    },
    {
     "name": "stdout",
     "output_type": "stream",
     "text": [
      "70 13\n",
      "70 26\n",
      "70 78\n",
      "x:  78 y :  78\n",
      "r :  0\n",
      "78\n"
     ]
    }
   ],
   "source": []
  },
  {
   "cell_type": "markdown",
   "id": "003e7e90-9766-41cd-9237-07911fbc75d4",
   "metadata": {},
   "source": []
  }
 ],
 "metadata": {
  "kernelspec": {
   "display_name": "Python 3 (ipykernel)",
   "language": "python",
   "name": "python3"
  },
  "language_info": {
   "codemirror_mode": {
    "name": "ipython",
    "version": 3
   },
   "file_extension": ".py",
   "mimetype": "text/x-python",
   "name": "python",
   "nbconvert_exporter": "python",
   "pygments_lexer": "ipython3",
   "version": "3.12.5"
  }
 },
 "nbformat": 4,
 "nbformat_minor": 5
}
