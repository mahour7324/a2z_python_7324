{
 "cells": [
  {
   "cell_type": "markdown",
   "id": "6ab57ef4-ab1b-4677-ba16-a0ac8329d87c",
   "metadata": {},
   "source": [
    "# pattern"
   ]
  },
  {
   "cell_type": "markdown",
   "id": "965f9180-8ef7-4743-b9ec-62619f58ffad",
   "metadata": {},
   "source": [
    "# 1"
   ]
  },
  {
   "cell_type": "code",
   "execution_count": 13,
   "id": "26b8ff1f-8078-4e54-9e4d-776311245c29",
   "metadata": {},
   "outputs": [
    {
     "name": "stdin",
     "output_type": "stream",
     "text": [
      "enter x , y 2 3\n"
     ]
    },
    {
     "name": "stdout",
     "output_type": "stream",
     "text": [
      "* * * \n",
      "* * * \n"
     ]
    }
   ],
   "source": [
    "x, y = input(\"enter x , y\").split()\n",
    "for _ in range(int(x)):\n",
    "    for _ in range(int(y)):\n",
    "        print(\"*\" , end=\" \")\n",
    "    print()\n",
    "        \n",
    "    "
   ]
  },
  {
   "cell_type": "markdown",
   "id": "d5fb9234-3278-4211-969b-cd2b14688914",
   "metadata": {},
   "source": [
    "# 2"
   ]
  },
  {
   "cell_type": "code",
   "execution_count": 18,
   "id": "9f1bffc3-cb36-494e-b48b-8d365bad38d0",
   "metadata": {},
   "outputs": [
    {
     "name": "stdout",
     "output_type": "stream",
     "text": [
      "\n",
      "* \n",
      "* * \n",
      "* * * \n",
      "* * * * \n"
     ]
    }
   ],
   "source": [
    "for x in range(5):\n",
    "    for y in range(x):\n",
    "        print(\"*\" , end=\" \")\n",
    "    print()\n",
    "                \n",
    "       \n"
   ]
  },
  {
   "cell_type": "markdown",
   "id": "f6a94e0e-be3b-4bb0-acce-316df477e165",
   "metadata": {},
   "source": [
    "# 3"
   ]
  },
  {
   "cell_type": "code",
   "execution_count": 21,
   "id": "d7030f11-1f6d-4b25-bbcb-438c8edd17de",
   "metadata": {},
   "outputs": [
    {
     "name": "stdout",
     "output_type": "stream",
     "text": [
      "\n",
      "1 \n",
      "1 2 \n",
      "1 2 3 \n",
      "1 2 3 4 \n"
     ]
    }
   ],
   "source": [
    "for x in range(5):\n",
    "    for y in range(x):\n",
    "        print(y+1 , end=\" \")\n",
    "    print()"
   ]
  },
  {
   "cell_type": "markdown",
   "id": "16af0e94-5dd3-4360-8c2f-c9600d0b53e2",
   "metadata": {},
   "source": [
    "# 4"
   ]
  },
  {
   "cell_type": "code",
   "execution_count": 28,
   "id": "9614e1fa-31a9-473b-9d88-856904c7ce17",
   "metadata": {},
   "outputs": [
    {
     "name": "stdout",
     "output_type": "stream",
     "text": [
      "\n",
      "1 \n",
      "2 2 \n",
      "3 3 3 \n",
      "4 4 4 4 \n"
     ]
    }
   ],
   "source": [
    "for x in range(5):\n",
    "    for y in range(x):\n",
    "        print(x , end=\" \")\n",
    "    print()"
   ]
  },
  {
   "cell_type": "markdown",
   "id": "7c5ed74e-f888-45c4-8bfd-00b2c24f05d8",
   "metadata": {},
   "source": [
    "# 5"
   ]
  },
  {
   "cell_type": "code",
   "execution_count": 50,
   "id": "3e2767bc-c346-49e2-bbf7-9feaacfc3e18",
   "metadata": {},
   "outputs": [
    {
     "name": "stdout",
     "output_type": "stream",
     "text": [
      "* * * * * \n",
      "* * * * \n",
      "* * * \n",
      "* * \n",
      "* \n"
     ]
    }
   ],
   "source": [
    "r = 5 ; c = 5\n",
    "for x in range(r):\n",
    "    for y in range(c-x):\n",
    "        print(\"*\" , end=\" \")\n",
    "    print()\n",
    "\n"
   ]
  },
  {
   "cell_type": "markdown",
   "id": "bafcbac7-b0b8-4acd-9b53-d7615564dde1",
   "metadata": {},
   "source": [
    "# 6"
   ]
  },
  {
   "cell_type": "code",
   "execution_count": 53,
   "id": "d1a313c3-2d46-43d3-bd5a-2e4ef34fd058",
   "metadata": {},
   "outputs": [
    {
     "name": "stdout",
     "output_type": "stream",
     "text": [
      "1 2 3 4 5 \n",
      "1 2 3 4 \n",
      "1 2 3 \n",
      "1 2 \n",
      "1 \n"
     ]
    }
   ],
   "source": [
    "r = 5 ; c = 5\n",
    "for x in range(r):\n",
    "    for y in range(c-x):\n",
    "        print(y+1 , end=\" \")\n",
    "    print()"
   ]
  },
  {
   "cell_type": "markdown",
   "id": "b2d21b28-2ea7-455c-b396-58a24afac4a2",
   "metadata": {},
   "source": [
    "# 7"
   ]
  },
  {
   "cell_type": "code",
   "execution_count": 71,
   "id": "3d8574a1-aa73-466d-8d59-0bfe246b43c0",
   "metadata": {},
   "outputs": [
    {
     "name": "stdout",
     "output_type": "stream",
     "text": [
      "    *    \n",
      "   ***   \n",
      "  *****  \n",
      " ******* \n",
      "*********\n"
     ]
    }
   ],
   "source": [
    "var = 5\n",
    "for i in range(var):\n",
    "    for j in range(var - i - 1):  # Print leading spaces\n",
    "        print(\" \", end=\"\")\n",
    "    for k in range(2 * i + 1):  # Print stars\n",
    "        print(\"*\", end=\"\")\n",
    "    for j in range(var - i - 1):  # Print leading spaces\n",
    "        print(\" \", end=\"\")\n",
    "    print()  # Move to the next line after each row\n",
    "\n"
   ]
  },
  {
   "cell_type": "markdown",
   "id": "aef57f8d-29bf-4ca2-8bea-427e1f4a4609",
   "metadata": {},
   "source": [
    "# 8"
   ]
  },
  {
   "cell_type": "code",
   "execution_count": 77,
   "id": "bd2d9f45-2821-4ac7-91f6-01f3acbddff3",
   "metadata": {},
   "outputs": [
    {
     "name": "stdout",
     "output_type": "stream",
     "text": [
      "*********\n",
      " ******* \n",
      "  *****  \n",
      "   ***   \n",
      "    *    \n"
     ]
    }
   ],
   "source": [
    "var = 5\n",
    "for i in range(var):\n",
    "    for x in range(i):\n",
    "        print(\"\", end=\" \")\n",
    "    for y in range((var-1-i)*2+1):\n",
    "        print(\"*\" , end=\"\")\n",
    "    for z in range(i):\n",
    "        print(\"\", end=\" \")\n",
    "    print()"
   ]
  },
  {
   "cell_type": "markdown",
   "id": "e1976006-adef-418f-877c-a207b68b1d31",
   "metadata": {},
   "source": [
    "# 9"
   ]
  },
  {
   "cell_type": "code",
   "execution_count": 78,
   "id": "8e8f2eb9-910d-473c-a6b4-d2382ac47f62",
   "metadata": {},
   "outputs": [
    {
     "name": "stdout",
     "output_type": "stream",
     "text": [
      "    *    \n",
      "   ***   \n",
      "  *****  \n",
      " ******* \n",
      "*********\n",
      "*********\n",
      " ******* \n",
      "  *****  \n",
      "   ***   \n",
      "    *    \n"
     ]
    }
   ],
   "source": [
    "var = 5\n",
    "for i in range(var):\n",
    "    for j in range(var - i - 1):  # Print leading spaces\n",
    "        print(\" \", end=\"\")\n",
    "    for k in range(2 * i + 1):  # Print stars\n",
    "        print(\"*\", end=\"\")\n",
    "    for j in range(var - i - 1):  # Print leading spaces\n",
    "        print(\" \", end=\"\")\n",
    "    print()  # Move to the next line after each row\n",
    "for i in range(var):\n",
    "    for x in range(i):\n",
    "        print(\"\", end=\" \")\n",
    "    for y in range((var-1-i)*2+1):\n",
    "        print(\"*\" , end=\"\")\n",
    "    for z in range(i):\n",
    "        print(\"\", end=\" \")\n",
    "    print()"
   ]
  },
  {
   "cell_type": "code",
   "execution_count": 85,
   "id": "1da087b8-8f39-483e-bf08-16b0cea6c986",
   "metadata": {},
   "outputs": [
    {
     "name": "stdout",
     "output_type": "stream",
     "text": [
      "    *\n",
      "   ***\n",
      "  *****\n",
      " *******\n",
      "*********\n",
      " *******\n",
      "  *****\n",
      "   ***\n",
      "    *\n"
     ]
    }
   ],
   "source": [
    "var = 5\n",
    "\n",
    "# Combined loop for both top and bottom halves\n",
    "for i in range(1, 2 * var):\n",
    "    # Determine the number of stars and spaces for each line\n",
    "    num_stars = 2 * var - abs(2 * var - 2 * i) - 1\n",
    "    num_spaces = (2 * var - 1 - num_stars) // 2\n",
    "    \n",
    "    # Print leading spaces\n",
    "    print(\" \" * num_spaces, end=\"\")\n",
    "    # Print stars\n",
    "    print(\"*\" * num_stars)"
   ]
  },
  {
   "cell_type": "markdown",
   "id": "c94c2ddc-f6e2-47f1-b622-b1ddcabb0dfc",
   "metadata": {},
   "source": [
    "# 10"
   ]
  },
  {
   "cell_type": "code",
   "execution_count": 86,
   "id": "00347853-cd39-4157-99b8-4471dba0b2c9",
   "metadata": {},
   "outputs": [
    {
     "name": "stdout",
     "output_type": "stream",
     "text": [
      "*\n",
      "***\n",
      "*****\n",
      "*******\n",
      "*********\n",
      "*******\n",
      "*****\n",
      "***\n",
      "*\n"
     ]
    }
   ],
   "source": [
    "var = 5\n",
    "\n",
    "# Combined loop for both top and bottom halves\n",
    "for i in range(1, 2 * var):\n",
    "    # Determine the number of stars and spaces for each line\n",
    "    num_stars = 2 * var - abs(2 * var - 2 * i) - 1\n",
    "    num_spaces = (2 * var - 1 - num_stars) // 2\n",
    "    \n",
    "    # Print leading spaces\n",
    "    print(\"\" * num_spaces, end=\"\")\n",
    "    # Print stars\n",
    "    print(\"*\" * num_stars)"
   ]
  },
  {
   "cell_type": "markdown",
   "id": "1dd92fe1-8c09-487f-a855-4c45ac4d7288",
   "metadata": {},
   "source": [
    "# 11"
   ]
  },
  {
   "cell_type": "code",
   "execution_count": 102,
   "id": "89922029-e87a-4bc1-ba13-4886f1e23270",
   "metadata": {},
   "outputs": [
    {
     "name": "stdout",
     "output_type": "stream",
     "text": [
      "1 \n",
      "1 0 \n",
      "1 0 1 \n",
      "1 0 1 0 \n",
      "1 0 1 0 1 \n"
     ]
    }
   ],
   "source": [
    "var = 5\n",
    "for i in range(var):\n",
    "    for j in range(i+1): #agar i 0 hai to -1 ho jayga range main so i upper loop main 1 se start hoga na ki 0 se\n",
    "        if j%2 == 0:\n",
    "            print(1, end=\" \")\n",
    "        else :\n",
    "            print(0, end=\" \")\n",
    "    print()"
   ]
  },
  {
   "cell_type": "markdown",
   "id": "9e11dd52-1ce4-4da2-90c6-815dba877066",
   "metadata": {},
   "source": [
    "# 13"
   ]
  },
  {
   "cell_type": "code",
   "execution_count": 111,
   "id": "a8d26dbb-dded-4d4e-a6c7-4d64dd33643e",
   "metadata": {},
   "outputs": [
    {
     "name": "stdout",
     "output_type": "stream",
     "text": [
      "1 \n",
      "2 3 \n",
      "4 5 6 \n",
      "7 8 9 10 \n",
      "11 12 13 14 15 \n"
     ]
    }
   ],
   "source": [
    "var = 5\n",
    "n = 1\n",
    "for i in range(var):\n",
    "    for x in range(i+1):\n",
    "        print(n, end=\" \")\n",
    "        n +=1\n",
    "    print()\n",
    "        \n",
    "        "
   ]
  },
  {
   "cell_type": "code",
   "execution_count": null,
   "id": "556cd770-e03b-4463-b727-a9000d944ec0",
   "metadata": {},
   "outputs": [],
   "source": []
  }
 ],
 "metadata": {
  "kernelspec": {
   "display_name": "Python 3 (ipykernel)",
   "language": "python",
   "name": "python3"
  },
  "language_info": {
   "codemirror_mode": {
    "name": "ipython",
    "version": 3
   },
   "file_extension": ".py",
   "mimetype": "text/x-python",
   "name": "python",
   "nbconvert_exporter": "python",
   "pygments_lexer": "ipython3",
   "version": "3.12.5"
  }
 },
 "nbformat": 4,
 "nbformat_minor": 5
}
