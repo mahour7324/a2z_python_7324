{
 "cells": [
  {
   "cell_type": "markdown",
   "id": "dc09e7cb-0946-4239-95b2-3aa493e4ff41",
   "metadata": {},
   "source": [
    "# 1 selection sort (select the minimun)"
   ]
  },
  {
   "cell_type": "code",
   "execution_count": 52,
   "id": "c6df26be-8f83-4459-bd81-e5a12c195704",
   "metadata": {},
   "outputs": [
    {
     "name": "stdout",
     "output_type": "stream",
     "text": [
      "[404, 506, 806, 909, 1001]\n"
     ]
    }
   ],
   "source": [
    "def selection(nums):\n",
    "    n = len(nums)\n",
    "    for st in range(n):\n",
    "        # Assume the current position is the minimum\n",
    "        min_index = st\n",
    "        for pointer in range(st + 1, n):\n",
    "            # Find the index of the smallest element\n",
    "            if nums[pointer] < nums[min_index]:\n",
    "                min_index = pointer\n",
    "        # Swap the found minimum element with the first element\n",
    "        nums[st], nums[min_index] = nums[min_index], nums[st]\n",
    "    return nums\n",
    "\n",
    "        \n",
    "    \n",
    "\n",
    "arr = [506,404,806,909,1001]\n",
    "print(selection(arr))\n",
    "        \n",
    "        \n",
    "    "
   ]
  },
  {
   "cell_type": "code",
   "execution_count": null,
   "id": "ef596195-524a-4ea2-94e8-94f1d979bd41",
   "metadata": {},
   "outputs": [],
   "source": []
  },
  {
   "cell_type": "code",
   "execution_count": null,
   "id": "130b89dc-cff9-40c6-a79a-3728f7c072d8",
   "metadata": {},
   "outputs": [],
   "source": []
  },
  {
   "cell_type": "code",
   "execution_count": null,
   "id": "6299a1f7-07c0-44d0-ac0c-2e08378fb36b",
   "metadata": {},
   "outputs": [],
   "source": []
  },
  {
   "cell_type": "code",
   "execution_count": null,
   "id": "f0bef527-71d5-42d8-9980-e93e2631c24a",
   "metadata": {},
   "outputs": [],
   "source": []
  },
  {
   "cell_type": "code",
   "execution_count": null,
   "id": "4b2a2e0d-7294-4377-b7c2-64bcbf8798bc",
   "metadata": {},
   "outputs": [],
   "source": []
  },
  {
   "cell_type": "code",
   "execution_count": null,
   "id": "fc70def1-c499-4016-a3a4-6cc5c8621c89",
   "metadata": {},
   "outputs": [],
   "source": []
  }
 ],
 "metadata": {
  "kernelspec": {
   "display_name": "Python 3 (ipykernel)",
   "language": "python",
   "name": "python3"
  },
  "language_info": {
   "codemirror_mode": {
    "name": "ipython",
    "version": 3
   },
   "file_extension": ".py",
   "mimetype": "text/x-python",
   "name": "python",
   "nbconvert_exporter": "python",
   "pygments_lexer": "ipython3",
   "version": "3.12.5"
  }
 },
 "nbformat": 4,
 "nbformat_minor": 5
}
