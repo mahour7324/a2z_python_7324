{
 "cells": [
  {
   "cell_type": "markdown",
   "id": "7be12e07-76d7-46ab-80b7-5f1f86edc12b",
   "metadata": {},
   "source": [
    "# easy\n",
    "Largest Element in an Array//\n",
    "Easy\n",
    "Second Largest Element in an Array without sorting\n",
    "Easy\n",
    "Check if the array is sorted\n",
    "Easy\n",
    "Remove duplicates from Sorted array\n",
    "Easy\n",
    "Left Rotate an array by one place\n",
    "Easy\n",
    "Left rotate an array by D places\n",
    "Easy\n",
    "Move Zeros to end\n",
    "Easy\n",
    "Linear Search\n",
    "Easy\n",
    "Find the Union\n",
    "Medium\n",
    "Find missing number in an array\n",
    "Easy\n",
    "Maximum Consecutive Ones\n",
    "Easy\n",
    "Find the number that appears once, and other numbers twice.\n",
    "Medium\n",
    "Longest subarray with given sum K(positives)\n",
    "Medium\n",
    "Longest subarray with sum K (Positives + Negatives)"
   ]
  },
  {
   "cell_type": "code",
   "execution_count": null,
   "id": "6790063e-d2af-41a2-be94-d7805fad2568",
   "metadata": {},
   "outputs": [],
   "source": []
  },
  {
   "cell_type": "code",
   "execution_count": null,
   "id": "20632f11-1170-49d1-94dd-ef2b71a8d645",
   "metadata": {},
   "outputs": [],
   "source": []
  },
  {
   "cell_type": "markdown",
   "id": "e56579ad-feb5-48d9-8163-5dce448e5b8a",
   "metadata": {},
   "source": [
    "# 1 find largest Element"
   ]
  },
  {
   "cell_type": "code",
   "execution_count": 4,
   "id": "4967a4a6-1135-4d8f-9fee-7edc7d1a17e3",
   "metadata": {},
   "outputs": [
    {
     "name": "stdout",
     "output_type": "stream",
     "text": [
      "8\n"
     ]
    }
   ],
   "source": [
    "def largest(arr):\n",
    "    big = arr[0]\n",
    "    for i in range(len(arr)):\n",
    "        if arr[i] > big:\n",
    "            big = arr[i]\n",
    "    return big    \n",
    "        \n",
    "arr = [8,4,1]\n",
    "print(largest(arr))\n",
    "        \n",
    "# tc => O(n)\n",
    "\n"
   ]
  },
  {
   "cell_type": "markdown",
   "id": "8e2675ec-28ae-4551-8b82-c8ae7f8e5ab6",
   "metadata": {},
   "source": [
    "# 2 find second largest element without sorting"
   ]
  },
  {
   "cell_type": "code",
   "execution_count": 14,
   "id": "7996ba87-a03b-4d32-a179-c0e70b76eca7",
   "metadata": {},
   "outputs": [
    {
     "name": "stdout",
     "output_type": "stream",
     "text": [
      "5\n"
     ]
    }
   ],
   "source": [
    "\n",
    "def secondLargest(arr):\n",
    "    lar = arr[0]\n",
    "    seclar = arr[1] # the arr must have at least two elememt\n",
    "    for i in range(len(arr)):\n",
    "        if arr[i]> lar:\n",
    "            seclar = lar\n",
    "            lar = arr[i]\n",
    "        else :\n",
    "            if arr[i] < lar and arr[i] > seclar :\n",
    "                seclar = arr[i]\n",
    "    return seclar\n",
    "\n",
    "\n",
    "\n",
    "\n",
    "arr1 = [10,5,10]\n",
    "print(secondLargest(arr1))\n",
    "\n",
    "\n",
    "# tc => O(n)"
   ]
  },
  {
   "cell_type": "markdown",
   "id": "215ca31b-aa50-4558-a264-2c59816bc2ca",
   "metadata": {},
   "source": [
    "# 3 check array is sorted"
   ]
  },
  {
   "cell_type": "code",
   "execution_count": 20,
   "id": "c30e1695-63c8-4132-a2e3-95950d909170",
   "metadata": {},
   "outputs": [
    {
     "name": "stdout",
     "output_type": "stream",
     "text": [
      "True\n"
     ]
    }
   ],
   "source": [
    "def checkArraySorted(arr):\n",
    "    for i in range(len(arr)-1):\n",
    "        if arr[i] > arr[i+1]:\n",
    "            return False\n",
    "    return True\n",
    "arr = [1,2,3,4,5,6,7,8,8,8,8,9]\n",
    "print(checkArraySorted(arr))"
   ]
  },
  {
   "cell_type": "markdown",
   "id": "c4051447-8419-4bfd-bfe5-93c47671570c",
   "metadata": {},
   "source": [
    "# 4 remove duplicates from Sorted Array"
   ]
  },
  {
   "cell_type": "code",
   "execution_count": 30,
   "id": "cc514ce1-ae80-49e9-ba95-29829a53fab9",
   "metadata": {},
   "outputs": [
    {
     "name": "stdout",
     "output_type": "stream",
     "text": [
      "[0, 1, 2, 3, 4]\n",
      "5\n"
     ]
    }
   ],
   "source": [
    "def remDup(arr):\n",
    "    arr2 = []\n",
    "    arr2.append(arr[0])\n",
    "    for i in range(len(arr)):\n",
    "        p = arr2[-1]\n",
    "        if p != arr[i]:\n",
    "            arr2.append(arr[i])\n",
    "    return arr2\n",
    "\n",
    "\n",
    "arr = [0,0,1,1,1,2,2,3,3,4]\n",
    "res = remDup(arr)\n",
    "print(res)a\n",
    "print(len(res))"
   ]
  },
  {
   "cell_type": "markdown",
   "id": "624ccb26-4ab8-4067-a5d2-9af7adca45f8",
   "metadata": {},
   "source": [
    "## 4.2 double pointer approach ***"
   ]
  },
  {
   "cell_type": "code",
   "execution_count": 34,
   "id": "57f8daed-a882-4b37-82ca-e38d744a3d69",
   "metadata": {},
   "outputs": [
    {
     "name": "stdout",
     "output_type": "stream",
     "text": [
      "2\n"
     ]
    }
   ],
   "source": [
    "def remDup(nums):\n",
    "    j = 1\n",
    "    for i in range(1, len(nums)):\n",
    "        if nums[i] != nums[i - 1]:\n",
    "            nums[j] = nums[i]\n",
    "            j += 1\n",
    "    return j\n",
    "\n",
    "arr = [1,1,2]\n",
    "res = remDup(arr)\n",
    "print(res)\n"
   ]
  },
  {
   "cell_type": "markdown",
   "id": "02de0188-4794-4484-b207-b4c834a718eb",
   "metadata": {},
   "source": [
    "# 5  Left Rotate an array by one place"
   ]
  },
  {
   "cell_type": "code",
   "execution_count": 6,
   "id": "766ea3c4-462a-4e4b-8274-ad73f1ea6c2f",
   "metadata": {},
   "outputs": [
    {
     "name": "stdout",
     "output_type": "stream",
     "text": [
      "1\n",
      "[2, 3, 4, 5, 6, 7, 8, 9, 1]\n"
     ]
    }
   ],
   "source": [
    "def leftRotateone(nums):\n",
    "    fvalue = nums[0]\n",
    "    print(fvalue)\n",
    "    for i in range(len(nums)-1):\n",
    "        nums[i] = nums[i+1] \n",
    "        if i+1 == len(nums)-1:\n",
    "            nums[i+1] = fvalue\n",
    "    return nums\n",
    "        \n",
    "arr = [1,2,3,4,5,6,7,8,9]\n",
    "res = leftRotateone(arr)\n",
    "print(res)    \n",
    "        \n"
   ]
  },
  {
   "cell_type": "markdown",
   "id": "316df24a-a216-41c3-8924-00cf850f5fc5",
   "metadata": {},
   "source": [
    "# 6 Left rotate an array by D places"
   ]
  },
  {
   "cell_type": "code",
   "execution_count": 7,
   "id": "a066d075-37b6-4ec4-b82c-e337e6c741c5",
   "metadata": {},
   "outputs": [
    {
     "name": "stdout",
     "output_type": "stream",
     "text": [
      "1\n",
      "2\n",
      "3\n",
      "[4, 5, 6, 7, 8, 9, 1, 2, 3]\n"
     ]
    }
   ],
   "source": [
    "def leftRotateone(nums , d):\n",
    "    for i in range(d):\n",
    "        fvalue = nums[0]\n",
    "        print(fvalue)\n",
    "        for i in range(len(nums)-1):\n",
    "            nums[i] = nums[i+1] \n",
    "            if i+1 == len(nums)-1:\n",
    "                nums[i+1] = fvalue\n",
    "    return nums\n",
    "        \n",
    "arr = [1,2,3,4,5,6,7,8,9]\n",
    "res = leftRotateone(arr , 3)\n",
    "print(res)    \n",
    "        \n"
   ]
  },
  {
   "cell_type": "markdown",
   "id": "3cd21ea3-5fc0-4a5e-bd1d-6edb0711d0ff",
   "metadata": {},
   "source": [
    "# 7 Move all Zeros to the end of the array ***"
   ]
  },
  {
   "cell_type": "code",
   "execution_count": 1,
   "id": "1524402a-5f79-4271-a121-b9feac7c070e",
   "metadata": {},
   "outputs": [
    {
     "ename": "IndentationError",
     "evalue": "expected an indented block after 'if' statement on line 5 (1008256812.py, line 11)",
     "output_type": "error",
     "traceback": [
      "\u001b[1;36m  Cell \u001b[1;32mIn[1], line 11\u001b[1;36m\u001b[0m\n\u001b[1;33m    arr = [1 ,0 ,2 ,3 ,0 ,4 ,0 ,1]\u001b[0m\n\u001b[1;37m                                  ^\u001b[0m\n\u001b[1;31mIndentationError\u001b[0m\u001b[1;31m:\u001b[0m expected an indented block after 'if' statement on line 5\n"
     ]
    }
   ],
   "source": [
    "def moveZeros(arr):\n",
    "    j = 0\n",
    "    while j< len(arr):\n",
    "        for i in range(j, len(arr)):\n",
    "            if arr[i] == 0:\n",
    "                \n",
    "    \n",
    "\n",
    "\n",
    "\n",
    "arr = [1 ,0 ,2 ,3 ,0 ,4 ,0 ,1]\n",
    "res = moveZeros(arr)\n",
    "print(res)    \n",
    "        \n"
   ]
  },
  {
   "cell_type": "markdown",
   "id": "fd3fcf52-93ae-420e-b293-b400cea611df",
   "metadata": {},
   "source": [
    "# 8 Linear Search "
   ]
  },
  {
   "cell_type": "code",
   "execution_count": 3,
   "id": "bc5c5cac-6a8c-4d28-8b4e-b197fef17e53",
   "metadata": {},
   "outputs": [
    {
     "name": "stdout",
     "output_type": "stream",
     "text": [
      "1\n"
     ]
    }
   ],
   "source": [
    "def linSea(arr, e):\n",
    "    i = 0\n",
    "    while i < len(arr):\n",
    "        if e == arr[i]:\n",
    "            return i\n",
    "        i += 1\n",
    "\n",
    "\n",
    "arr = [1 ,0 ,2 ,3 ,0 ,4 ,0 ,1]\n",
    "res = linSea(arr, 0)\n",
    "print(res)    \n"
   ]
  },
  {
   "cell_type": "code",
   "execution_count": 12,
   "id": "5695a042-68ad-49af-872c-48b8e11998b0",
   "metadata": {},
   "outputs": [
    {
     "name": "stdout",
     "output_type": "stream",
     "text": [
      "[10, 20, 3, 4, 5, 2, 3, 4, 5, 6, 7, 8, 9]\n",
      "{2, 3, 4, 5, 6, 7, 8, 9, 10, 20}\n"
     ]
    }
   ],
   "source": [
    "arr1 = [10,20,3,4,5]\n",
    "arr2 = [2,3,4,5,6,7,8,9]\n",
    "arr1 = arr1 + arr2\n",
    "print(arr1)\n",
    "arr1 = set(arr1)\n",
    "print(arr1)"
   ]
  },
  {
   "cell_type": "code",
   "execution_count": null,
   "id": "8c3c42c2-5e31-4d65-9e2a-66fff5dd81cd",
   "metadata": {},
   "outputs": [],
   "source": []
  },
  {
   "cell_type": "code",
   "execution_count": null,
   "id": "27ceb8d9-6086-45d6-83dd-f79e67a1ee47",
   "metadata": {},
   "outputs": [],
   "source": []
  },
  {
   "cell_type": "code",
   "execution_count": null,
   "id": "6225be53-157c-4bfb-a73a-bd9b516b2e75",
   "metadata": {},
   "outputs": [],
   "source": []
  }
 ],
 "metadata": {
  "kernelspec": {
   "display_name": "Python 3 (ipykernel)",
   "language": "python",
   "name": "python3"
  },
  "language_info": {
   "codemirror_mode": {
    "name": "ipython",
    "version": 3
   },
   "file_extension": ".py",
   "mimetype": "text/x-python",
   "name": "python",
   "nbconvert_exporter": "python",
   "pygments_lexer": "ipython3",
   "version": "3.12.5"
  }
 },
 "nbformat": 4,
 "nbformat_minor": 5
}
